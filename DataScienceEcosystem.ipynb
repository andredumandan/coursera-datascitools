{
 "cells": [
  {
   "cell_type": "markdown",
   "id": "a31c86df",
   "metadata": {},
   "source": [
    "<H1> Data Science Tools and Ecosystem </H1>"
   ]
  },
  {
   "cell_type": "markdown",
   "id": "6ab13638",
   "metadata": {},
   "source": [
    "In this notebook, Data Science Tools and Ecosystem are summarized."
   ]
  },
  {
   "cell_type": "markdown",
   "id": "35569611",
   "metadata": {},
   "source": [
    "**Objectives:**\n",
    "- List popular languages for Data Science\n",
    "- List common libraries for Data Science\n",
    "- Create a table of some Data Science tools\n",
    "- Create examples of evaluating arithmetic expressions in Python\n",
    "- Convert hours to minutes"
   ]
  },
  {
   "cell_type": "markdown",
   "id": "1d8563b9",
   "metadata": {},
   "source": [
    "Some of the popular languages that Data Scientists use are:\n",
    "1. R\n",
    "2. SQL\n",
    "3. Python"
   ]
  },
  {
   "cell_type": "markdown",
   "id": "887bc7f6",
   "metadata": {},
   "source": [
    "Some of the commonly used libraries used by Data Scientists include:\n",
    "1. SciPy\n",
    "2. Numpy\n",
    "3. Tensorflow"
   ]
  },
  {
   "cell_type": "markdown",
   "id": "87ab1c51",
   "metadata": {},
   "source": [
    "Data Science Tools |\n",
    "---|\n",
    "Jupyter|\n",
    "RStudio|\n",
    "Git|"
   ]
  },
  {
   "cell_type": "markdown",
   "id": "76f8f5b0",
   "metadata": {},
   "source": [
    "<H3> Below are a few examples of evaluating arithmetic expressions in Python </H3>"
   ]
  },
  {
   "cell_type": "code",
   "execution_count": 1,
   "id": "e67005af",
   "metadata": {},
   "outputs": [
    {
     "data": {
      "text/plain": [
       "17"
      ]
     },
     "execution_count": 1,
     "metadata": {},
     "output_type": "execute_result"
    }
   ],
   "source": [
    "#This a simple arithmetic expression to mutiply then add integers\n",
    "(3*4)+5"
   ]
  },
  {
   "cell_type": "code",
   "execution_count": 2,
   "id": "556f77dd",
   "metadata": {},
   "outputs": [
    {
     "name": "stdout",
     "output_type": "stream",
     "text": [
      "3.3333333333333335 hours\n"
     ]
    }
   ],
   "source": [
    "#This will convert 200 minutes to hours by dividing by 60\n",
    "minutes = 200\n",
    "hours = minutes/60\n",
    "print(\"{} hours\".format(hours))"
   ]
  },
  {
   "cell_type": "markdown",
   "id": "c8dea91a",
   "metadata": {},
   "source": [
    "<H2> Author </H2>\n",
    "Andre Dumandan"
   ]
  }
 ],
 "metadata": {
  "kernelspec": {
   "display_name": "Python 3 (ipykernel)",
   "language": "python",
   "name": "python3"
  },
  "language_info": {
   "codemirror_mode": {
    "name": "ipython",
    "version": 3
   },
   "file_extension": ".py",
   "mimetype": "text/x-python",
   "name": "python",
   "nbconvert_exporter": "python",
   "pygments_lexer": "ipython3",
   "version": "3.7.9"
  }
 },
 "nbformat": 4,
 "nbformat_minor": 5
}
